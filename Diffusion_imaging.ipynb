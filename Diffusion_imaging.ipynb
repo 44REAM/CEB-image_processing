{
  "cells": [
    {
      "cell_type": "markdown",
      "metadata": {
        "id": "view-in-github",
        "colab_type": "text"
      },
      "source": [
        "<a href=\"https://colab.research.google.com/github/44REAM/CEB-image_processing/blob/main/Diffusion_imaging.ipynb\" target=\"_parent\"><img src=\"https://colab.research.google.com/assets/colab-badge.svg\" alt=\"Open In Colab\"/></a>"
      ]
    },
    {
      "cell_type": "markdown",
      "metadata": {
        "id": "WtaYMKP6d0Dg"
      },
      "source": [
        "Diffusion tensor imaging (DTI)\n",
        "---\n"
      ]
    },
    {
      "cell_type": "code",
      "execution_count": null,
      "metadata": {
        "colab": {
          "base_uri": "https://localhost:8080/"
        },
        "id": "8tRxw3eWa1gb",
        "outputId": "2aba8ffc-28a6-4495-dc5b-9fbb32c0b564"
      },
      "outputs": [
        {
          "name": "stdout",
          "output_type": "stream",
          "text": [
            "Cloning into 'CEB-image_processing'...\n",
            "remote: Enumerating objects: 233, done.\u001b[K\n",
            "remote: Counting objects: 100% (94/94), done.\u001b[K\n",
            "remote: Compressing objects: 100% (92/92), done.\u001b[K\n",
            "remote: Total 233 (delta 56), reused 5 (delta 2), pack-reused 139\u001b[K\n",
            "Receiving objects: 100% (233/233), 9.72 MiB | 13.78 MiB/s, done.\n",
            "Resolving deltas: 100% (128/128), done.\n",
            "/content/CEB-image_processing\n"
          ]
        }
      ],
      "source": [
        "!git clone https://github.com/44REAM/CEB-image_processing.git\n",
        "%cd /content/CEB-image_processing\n"
      ]
    },
    {
      "cell_type": "markdown",
      "source": [
        "# Resources\n",
        "\n",
        "https://www.youtube.com/watch?v=YxXyN2ifK8A"
      ],
      "metadata": {
        "id": "mPnP20tSKHqU"
      }
    },
    {
      "cell_type": "code",
      "source": [],
      "metadata": {
        "id": "Jtt6bRQlKIBg"
      },
      "execution_count": null,
      "outputs": []
    }
  ],
  "metadata": {
    "colab": {
      "provenance": [],
      "authorship_tag": "ABX9TyMdTLLPZ7ECGXoiNGy3Cm6b",
      "include_colab_link": true
    },
    "kernelspec": {
      "display_name": "Python 3",
      "name": "python3"
    },
    "language_info": {
      "name": "python"
    }
  },
  "nbformat": 4,
  "nbformat_minor": 0
}