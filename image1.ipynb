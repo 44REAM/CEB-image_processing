{
  "nbformat": 4,
  "nbformat_minor": 0,
  "metadata": {
    "colab": {
      "provenance": [],
      "authorship_tag": "ABX9TyPyMc9JTDIuGjTgUYd83t0a",
      "include_colab_link": true
    },
    "kernelspec": {
      "name": "python3",
      "display_name": "Python 3"
    },
    "language_info": {
      "name": "python"
    }
  },
  "cells": [
    {
      "cell_type": "markdown",
      "metadata": {
        "id": "view-in-github",
        "colab_type": "text"
      },
      "source": [
        "<a href=\"https://colab.research.google.com/github/44REAM/CEB-image_processing/blob/main/image1.ipynb\" target=\"_parent\"><img src=\"https://colab.research.google.com/assets/colab-badge.svg\" alt=\"Open In Colab\"/></a>"
      ]
    },
    {
      "cell_type": "code",
      "execution_count": null,
      "metadata": {
        "id": "BKwbNJKu1wqU"
      },
      "outputs": [],
      "source": [
        "import numpy as np\n",
        "import cv2\n",
        "\n",
        "import seaborn as sns\n",
        "import matplotlib.pyplot as plt"
      ]
    },
    {
      "cell_type": "code",
      "source": [
        "ct_image = cv2.imread('data/ct.jpeg')\n",
        "print(f\"image shape: {ct_image.shape}\")\n",
        "\n",
        "ct_image = ct_image[:,:,0]"
      ],
      "metadata": {
        "id": "RE4YBCo21yzx"
      },
      "execution_count": null,
      "outputs": []
    },
    {
      "cell_type": "code",
      "source": [
        "fig, axes = plt.subplots(1, 2, figsize = (10,5))\n",
        "\n",
        "\n",
        "axes[0].imshow(ct_image, cmap = 'gray')\n",
        "sns.histplot(ct_image.ravel(), bins=20, ax = axes[1])"
      ],
      "metadata": {
        "id": "mjUjijc21z-U"
      },
      "execution_count": null,
      "outputs": []
    },
    {
      "cell_type": "code",
      "source": [
        "# https://docs.opencv.org/4.x/d7/d1b/group__imgproc__misc.html#gaa9e58d2860d4afa658ef70a9b1115576\n",
        "ct_image_thres = cv2.threshold(ct_image, 20, 200, cv2.THRESH_BINARY)\n",
        "plt.imshow(ct_image_thres[1], cmap = 'gray')"
      ],
      "metadata": {
        "id": "5qRDf_zX1006"
      },
      "execution_count": null,
      "outputs": []
    },
    {
      "cell_type": "code",
      "source": [
        "fig, axes = plt.subplots(1, 2, figsize = (10,5))\n",
        "\n",
        "ct_equ = cv2.equalizeHist(ct_image)\n",
        "axes[0].imshow(ct_image, cmap = 'gray')\n",
        "axes[1].imshow(ct_equ, cmap = 'gray')\n"
      ],
      "metadata": {
        "id": "D9tpl04w119P"
      },
      "execution_count": null,
      "outputs": []
    },
    {
      "cell_type": "code",
      "source": [
        "def threshold(image, lower_bound = None, upper_bound = None, new_intensity = 0):\n",
        "    assert lower_bound is not None or upper_bound is not None\n",
        "    if lower_bound is not None:\n",
        "        \n",
        "    ct_image[(ct_image > lower_bound) & (ct_image < upper_bound)] = new_intensity"
      ],
      "metadata": {
        "id": "jsJ4IM2H13O3"
      },
      "execution_count": null,
      "outputs": []
    },
    {
      "cell_type": "code",
      "source": [
        "ct_image[(ct_image > 20) & (ct_image < 200)] = 0"
      ],
      "metadata": {
        "id": "G5X9aSnW132E"
      },
      "execution_count": null,
      "outputs": []
    }
  ]
}