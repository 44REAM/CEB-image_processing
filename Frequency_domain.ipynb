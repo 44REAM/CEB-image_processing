{
  "nbformat": 4,
  "nbformat_minor": 0,
  "metadata": {
    "colab": {
      "provenance": [],
      "toc_visible": true,
      "authorship_tag": "ABX9TyOtEmoJXTPlpU49IuZOieIG",
      "include_colab_link": true
    },
    "kernelspec": {
      "name": "python3",
      "display_name": "Python 3"
    },
    "language_info": {
      "name": "python"
    }
  },
  "cells": [
    {
      "cell_type": "markdown",
      "metadata": {
        "id": "view-in-github",
        "colab_type": "text"
      },
      "source": [
        "<a href=\"https://colab.research.google.com/github/44REAM/CEB-image_processing/blob/main/Frequency_domain.ipynb\" target=\"_parent\"><img src=\"https://colab.research.google.com/assets/colab-badge.svg\" alt=\"Open In Colab\"/></a>"
      ]
    },
    {
      "cell_type": "markdown",
      "source": [
        "Frequency domain, image restoration and image reconstruction\n",
        "\n",
        "---\n",
        "\n",
        "Slide Aj Ratchainan 2, 4"
      ],
      "metadata": {
        "id": "ZwEWrO6okihO"
      }
    },
    {
      "cell_type": "code",
      "execution_count": null,
      "metadata": {
        "id": "mENQOo7Pkf5w"
      },
      "outputs": [],
      "source": []
    },
    {
      "cell_type": "markdown",
      "source": [
        "# Applications"
      ],
      "metadata": {
        "id": "9D6vV5u3ZtJw"
      }
    },
    {
      "cell_type": "markdown",
      "source": [
        "## Image restoration"
      ],
      "metadata": {
        "id": "wLnygT4qZv79"
      }
    },
    {
      "cell_type": "code",
      "source": [],
      "metadata": {
        "id": "vsv9g50oZviL"
      },
      "execution_count": null,
      "outputs": []
    }
  ]
}