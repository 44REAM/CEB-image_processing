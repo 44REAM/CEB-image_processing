{
  "nbformat": 4,
  "nbformat_minor": 0,
  "metadata": {
    "colab": {
      "provenance": [],
      "toc_visible": true,
      "include_colab_link": true
    },
    "kernelspec": {
      "name": "python3",
      "display_name": "Python 3"
    },
    "language_info": {
      "name": "python"
    }
  },
  "cells": [
    {
      "cell_type": "markdown",
      "metadata": {
        "id": "view-in-github",
        "colab_type": "text"
      },
      "source": [
        "<a href=\"https://colab.research.google.com/github/44REAM/CEB-image_processing/blob/main/Morphological.ipynb\" target=\"_parent\"><img src=\"https://colab.research.google.com/assets/colab-badge.svg\" alt=\"Open In Colab\"/></a>"
      ]
    },
    {
      "cell_type": "markdown",
      "source": [
        "Slide 10"
      ],
      "metadata": {
        "id": "WFXfsBLydnWZ"
      }
    },
    {
      "cell_type": "code",
      "source": [
        "!git clone https://github.com/44REAM/CEB-image_processing.git\n",
        "%cd /content/CEB-image_processing\n"
      ],
      "metadata": {
        "colab": {
          "base_uri": "https://localhost:8080/"
        },
        "id": "RCKr6URM3GR7",
        "outputId": "6c236356-5e82-4bd3-831a-78843caf8b86"
      },
      "execution_count": null,
      "outputs": [
        {
          "output_type": "stream",
          "name": "stdout",
          "text": [
            "Cloning into 'CEB-image_processing'...\n",
            "remote: Enumerating objects: 48, done.\u001b[K\n",
            "remote: Counting objects: 100% (48/48), done.\u001b[K\n",
            "remote: Compressing objects: 100% (36/36), done.\u001b[K\n",
            "remote: Total 48 (delta 18), reused 15 (delta 4), pack-reused 0\u001b[K\n",
            "Unpacking objects: 100% (48/48), done.\n",
            "/content/CEB-image_processing\n"
          ]
        }
      ]
    },
    {
      "cell_type": "markdown",
      "source": [
        "# Erosion\n",
        "- video"
      ],
      "metadata": {
        "id": "51dfffmwdxTX"
      }
    },
    {
      "cell_type": "markdown",
      "source": [
        "# Dilation\n",
        "- video"
      ],
      "metadata": {
        "id": "VSmE0aDfdy_c"
      }
    },
    {
      "cell_type": "code",
      "source": [],
      "metadata": {
        "id": "tphFp4PUdyTB"
      },
      "execution_count": null,
      "outputs": []
    }
  ]
}